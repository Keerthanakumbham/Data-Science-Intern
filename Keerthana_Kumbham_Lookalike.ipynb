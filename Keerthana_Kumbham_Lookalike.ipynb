{
 "cells": [
  {
   "cell_type": "markdown",
   "id": "032afe39-cec0-430e-b8f0-165ef184d66d",
   "metadata": {},
   "source": [
    "# Task 2: Lookalike Model"
   ]
  },
  {
   "cell_type": "markdown",
   "id": "f38c0d09-4985-439a-850f-6dc7428c0aba",
   "metadata": {},
   "source": [
    "#### Step 1: Importing Libraries"
   ]
  },
  {
   "cell_type": "code",
   "execution_count": 1,
   "id": "5383604d-58a9-4499-9b83-750d798ad030",
   "metadata": {},
   "outputs": [],
   "source": [
    "import pandas as pd\n",
    "from sklearn.metrics.pairwise import cosine_similarity\n",
    "from sklearn.preprocessing import MinMaxScaler"
   ]
  },
  {
   "cell_type": "markdown",
   "id": "329232e4-d10e-4ae3-84b4-53143b75686e",
   "metadata": {},
   "source": [
    "#### Step 2: Loading Datasets"
   ]
  },
  {
   "cell_type": "code",
   "execution_count": 4,
   "id": "385cdedb-8f21-4cab-83af-bb7c3fee9a46",
   "metadata": {},
   "outputs": [],
   "source": [
    "customers = pd.read_csv(r\"C:\\Users\\JOGESH\\Downloads\\Customers.csv\")\n",
    "transactions = pd.read_csv(r\"C:\\Users\\JOGESH\\Downloads\\Transactions.csv\")\n",
    "data = pd.merge(transactions, customers, on='CustomerID', how='inner')"
   ]
  },
  {
   "cell_type": "markdown",
   "id": "4097c919-a86d-4fde-92fb-e5d3fe4d1c79",
   "metadata": {},
   "source": [
    "#### Step 3: Feature Engineering"
   ]
  },
  {
   "cell_type": "code",
   "execution_count": 10,
   "id": "ec6d7a19-285f-4de7-a032-0ede38f6da06",
   "metadata": {},
   "outputs": [],
   "source": [
    "customer_features = data.groupby('CustomerID').agg({\n",
    "    'TotalValue': 'sum',\n",
    "    'Quantity': 'sum',\n",
    "    'ProductID': lambda x: x.nunique(),\n",
    "    'Region': 'first'\n",
    "}).reset_index()\n",
    "from sklearn.preprocessing import MinMaxScaler\n",
    "scaler = MinMaxScaler()\n",
    "customer_features[['TotalValue', 'Quantity', 'ProductID']] = scaler.fit_transform(\n",
    "    customer_features[['TotalValue', 'Quantity', 'ProductID']]\n",
    ")"
   ]
  },
  {
   "cell_type": "markdown",
   "id": "e7b6b1f2-816f-4f7b-881e-038874e04949",
   "metadata": {},
   "source": [
    "#### Step 4: Building Similarity Matrix"
   ]
  },
  {
   "cell_type": "code",
   "execution_count": 6,
   "id": "a77922ff-9275-4cef-87bd-9a160c31f733",
   "metadata": {},
   "outputs": [],
   "source": [
    "similarity_matrix = cosine_similarity(customer_profiles.iloc[:, 1:])\n",
    "similarity_df = pd.DataFrame(similarity_matrix, index=customer_profiles['CustomerID'], columns=customer_profiles['CustomerID'])"
   ]
  },
  {
   "cell_type": "markdown",
   "id": "32c1c1f6-e7f9-4a59-91d2-3485a974d664",
   "metadata": {},
   "source": [
    "#### Step 5: Generating Top 3 Lookalikes"
   ]
  },
  {
   "cell_type": "code",
   "execution_count": 20,
   "id": "18e2069f-154f-4d0d-99a9-dbda9902667f",
   "metadata": {},
   "outputs": [
    {
     "data": {
      "text/html": [
       "<div>\n",
       "<style scoped>\n",
       "    .dataframe tbody tr th:only-of-type {\n",
       "        vertical-align: middle;\n",
       "    }\n",
       "\n",
       "    .dataframe tbody tr th {\n",
       "        vertical-align: top;\n",
       "    }\n",
       "\n",
       "    .dataframe thead th {\n",
       "        text-align: right;\n",
       "    }\n",
       "</style>\n",
       "<table border=\"1\" class=\"dataframe\">\n",
       "  <thead>\n",
       "    <tr style=\"text-align: right;\">\n",
       "      <th></th>\n",
       "      <th>CustomerID</th>\n",
       "      <th>Lookalike1</th>\n",
       "      <th>Score1</th>\n",
       "      <th>Lookalike2</th>\n",
       "      <th>Score2</th>\n",
       "      <th>Lookalike3</th>\n",
       "      <th>Score3</th>\n",
       "    </tr>\n",
       "  </thead>\n",
       "  <tbody>\n",
       "    <tr>\n",
       "      <th>0</th>\n",
       "      <td>C0001</td>\n",
       "      <td>C0107</td>\n",
       "      <td>1.0</td>\n",
       "      <td>C0137</td>\n",
       "      <td>1.0</td>\n",
       "      <td>C0174</td>\n",
       "      <td>1.00</td>\n",
       "    </tr>\n",
       "    <tr>\n",
       "      <th>1</th>\n",
       "      <td>C0002</td>\n",
       "      <td>C0084</td>\n",
       "      <td>1.0</td>\n",
       "      <td>C0106</td>\n",
       "      <td>1.0</td>\n",
       "      <td>C0175</td>\n",
       "      <td>1.00</td>\n",
       "    </tr>\n",
       "    <tr>\n",
       "      <th>2</th>\n",
       "      <td>C0003</td>\n",
       "      <td>C0133</td>\n",
       "      <td>1.0</td>\n",
       "      <td>C0190</td>\n",
       "      <td>1.0</td>\n",
       "      <td>C0174</td>\n",
       "      <td>0.99</td>\n",
       "    </tr>\n",
       "    <tr>\n",
       "      <th>3</th>\n",
       "      <td>C0004</td>\n",
       "      <td>C0113</td>\n",
       "      <td>1.0</td>\n",
       "      <td>C0104</td>\n",
       "      <td>1.0</td>\n",
       "      <td>C0102</td>\n",
       "      <td>1.00</td>\n",
       "    </tr>\n",
       "    <tr>\n",
       "      <th>4</th>\n",
       "      <td>C0005</td>\n",
       "      <td>C0145</td>\n",
       "      <td>1.0</td>\n",
       "      <td>C0022</td>\n",
       "      <td>1.0</td>\n",
       "      <td>C0101</td>\n",
       "      <td>1.00</td>\n",
       "    </tr>\n",
       "  </tbody>\n",
       "</table>\n",
       "</div>"
      ],
      "text/plain": [
       "  CustomerID Lookalike1  Score1 Lookalike2  Score2 Lookalike3  Score3\n",
       "0      C0001      C0107     1.0      C0137     1.0      C0174    1.00\n",
       "1      C0002      C0084     1.0      C0106     1.0      C0175    1.00\n",
       "2      C0003      C0133     1.0      C0190     1.0      C0174    0.99\n",
       "3      C0004      C0113     1.0      C0104     1.0      C0102    1.00\n",
       "4      C0005      C0145     1.0      C0022     1.0      C0101    1.00"
      ]
     },
     "execution_count": 20,
     "metadata": {},
     "output_type": "execute_result"
    }
   ],
   "source": [
    "lookalike_results = {}\n",
    "for customer_id in customer_features['CustomerID']:\n",
    "    similar_customers = similarity_df[customer_id].sort_values(ascending=False)[1:4]\n",
    "    lookalike_results[customer_id] = [\n",
    "        (idx, round(score, 2)) for idx, score in similar_customers.items()\n",
    "    ]\n",
    "lookalike_data = []\n",
    "for customer_id, lookalikes in lookalike_results.items():\n",
    "    row = [customer_id]\n",
    "    for lookalike in lookalikes:\n",
    "        row.extend(lookalike)\n",
    "    while len(row) < 7:\n",
    "        row.extend([None, None])\n",
    "    lookalike_data.append(row)\n",
    "lookalike_df = pd.DataFrame(\n",
    "    lookalike_data,\n",
    "    columns=['CustomerID', 'Lookalike1', 'Score1', 'Lookalike2', 'Score2', 'Lookalike3', 'Score3']\n",
    ")\n",
    "lookalike_df.to_csv('Keerthana_Kumbham_Lookalike.csv', index=False)\n",
    "lookalike_df.head()"
   ]
  }
 ],
 "metadata": {
  "kernelspec": {
   "display_name": "Python 3 (ipykernel)",
   "language": "python",
   "name": "python3"
  },
  "language_info": {
   "codemirror_mode": {
    "name": "ipython",
    "version": 3
   },
   "file_extension": ".py",
   "mimetype": "text/x-python",
   "name": "python",
   "nbconvert_exporter": "python",
   "pygments_lexer": "ipython3",
   "version": "3.11.7"
  }
 },
 "nbformat": 4,
 "nbformat_minor": 5
}
